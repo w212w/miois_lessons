{
 "cells": [
  {
   "cell_type": "markdown",
   "metadata": {},
   "source": [
    "# Множественная диспетчеризация"
   ]
  },
  {
   "cell_type": "markdown",
   "metadata": {},
   "source": [
    "В этом блокноте мы будем исследовать **множественную диспетчеризацию**, которая является одной из ключевых особенностей Julia.\n",
    "\n",
    "Множественная диспетчеризация делает программу *обобщенной* и *быстрой*!\n",
    "\n",
    "#### Начнем со знакомого\n",
    "\n",
    "Чтобы понять множественную диспетчеризацию в Julia, начнем с того, что уже видели.\n",
    "\n",
    "Например, мы можем объявлять функции, и при этом не давать информации о типах используемых аргументов.\n"
   ]
  },
  {
   "cell_type": "code",
   "execution_count": null,
   "metadata": {},
   "outputs": [],
   "source": [
    "f(x) = x.^2"
   ]
  },
  {
   "cell_type": "markdown",
   "metadata": {},
   "source": [
    "а Julia сама поймет, какой тип аргументов имеет значение, а какой нет."
   ]
  },
  {
   "cell_type": "code",
   "execution_count": null,
   "metadata": {},
   "outputs": [],
   "source": [
    "f(10)"
   ]
  },
  {
   "cell_type": "code",
   "execution_count": null,
   "metadata": {},
   "outputs": [],
   "source": [
    "f([1, 2, 3])"
   ]
  },
  {
   "cell_type": "markdown",
   "metadata": {},
   "source": [
    "#### Спецификация типов входных параметров\n",
    "\n",
    "Но все же, у нас есть и возможность \"разъяснить\" Julia, какой тип аргументов разрешен.\n",
    "\n",
    "Для примера, напишем функцию `foo`, которая в качестве входных данных принимает строку."
   ]
  },
  {
   "cell_type": "code",
   "execution_count": null,
   "metadata": {},
   "outputs": [],
   "source": [
    "foo(x::String, y::String) = println(\"My inputs x and y are both strings!\")"
   ]
  },
  {
   "cell_type": "markdown",
   "metadata": {},
   "source": [
    "Здесь мы видим, что тип у `x` и `y` задан `String`, мы просто отделили входной аргумент двойным двоеточием и ключевым словом `String`.\n",
    "\n",
    "Теперь посмотрим, как `foo` работает со `String` и не работает с другими типами аргументов."
   ]
  },
  {
   "cell_type": "code",
   "execution_count": null,
   "metadata": {},
   "outputs": [],
   "source": [
    "foo(\"hello\", \"hbhsgjksjkdn;i!\")"
   ]
  },
  {
   "cell_type": "code",
   "execution_count": null,
   "metadata": {},
   "outputs": [],
   "source": [
    "foo(3, 4)"
   ]
  },
  {
   "cell_type": "markdown",
   "metadata": {},
   "source": [
    "Чтобы `foo` работал с целым числом (`Int`), вставим `::Int` вместо предыдущего типа, когда мы объявляли `foo`."
   ]
  },
  {
   "cell_type": "code",
   "execution_count": null,
   "metadata": {},
   "outputs": [],
   "source": [
    "foo(x::Int, y::Int) = println(\"My inputs $x and $y are both integers!\")"
   ]
  },
  {
   "cell_type": "code",
   "execution_count": null,
   "metadata": {},
   "outputs": [],
   "source": [
    "foo(3.0, 4)"
   ]
  },
  {
   "cell_type": "markdown",
   "metadata": {},
   "source": [
    "Теперь `foo` работает с целыми числами! Но тут особенность, `foo` все еще работает, если `x` и `y` будут строками!"
   ]
  },
  {
   "cell_type": "code",
   "execution_count": null,
   "metadata": {},
   "outputs": [],
   "source": [
    "foo(\"hello\", \"hi!\")"
   ]
  },
  {
   "cell_type": "markdown",
   "metadata": {},
   "source": [
    "Так мы подбираемся к основной идее множественной диспетчеризации. Когда мы объявили:\n",
    "\n",
    "```julia\n",
    "foo(x::Int, y::Int) = println(\"My inputs x and y are both integers!\")\n",
    "```\n",
    "мы не переписали и не заменили:\n",
    "```julia\n",
    "foo(x::String, y::String)\n",
    "```\n",
    "Вместо этого мы добавили дополнительный ***метод*** к ***обобщенной функции*** `foo`.\n",
    "\n",
    " ***Обобщенные функции*** - это абстрактная концепция, связанная со специфическими действиями.\n",
    "К примеру обобщенная функция `+` концептуально означает прибавление.\n",
    "\n",
    "А ***метод*** это частное исполнение обобщенной функции для *специфических типов аргументов*.\n",
    "\n",
    "К примеру, `+` содержит методы для сложения целых чисел, чисел с плавающей запятой, матриц и т.д..\n",
    "\n",
    "Можно использовать функцию `methods` чтобы посмотреть, сколько методов у функции `foo`."
   ]
  },
  {
   "cell_type": "code",
   "execution_count": null,
   "metadata": {},
   "outputs": [],
   "source": [
    "methods(foo)"
   ]
  },
  {
   "cell_type": "markdown",
   "metadata": {},
   "source": [
    "P.S. как вы думаете, сколько методов у сложения?"
   ]
  },
  {
   "cell_type": "code",
   "execution_count": null,
   "metadata": {},
   "outputs": [],
   "source": [
    "methods(+)"
   ]
  },
  {
   "cell_type": "code",
   "execution_count": null,
   "metadata": {},
   "outputs": [],
   "source": [
    "'4'+5"
   ]
  },
  {
   "cell_type": "markdown",
   "metadata": {},
   "source": [
    "Таким образом, мы теперь можем вызывать `foo` для целых чисел и строк. Если вы вызываете `foo` для различных наборов аргументов, Julia поймет тип аргументов и применит необходимый метод. Это и есть *множественная диспетчеризация*.\n",
    "\n",
    "Множественная диспетчеризация делает наш код *обобщенным* и *быстрым*. Наш код может быть *обобщенным* (гибким), потому что мы можем его писать в терминах абстрактных операций, таких как сложении и умножение, а не в терминах частных исполнений этих функций. В то же время, наш код работает быстро, потому что Julia подбирает эффективный метод для заданных типов.\n",
    "\n",
    "Чтобы увидеть, какой конкретно метод вызывается у обобщенной функции, можно использовать макрос `@which`"
   ]
  },
  {
   "cell_type": "code",
   "execution_count": null,
   "metadata": {},
   "outputs": [],
   "source": [
    "@which foo(3, 4)"
   ]
  },
  {
   "cell_type": "markdown",
   "metadata": {},
   "source": [
    "Посмотрим, что произойдет, если когда мы использум `@which` с оператором сложения!"
   ]
  },
  {
   "cell_type": "code",
   "execution_count": null,
   "metadata": {},
   "outputs": [],
   "source": [
    "@which 3.0 + 3.0"
   ]
  },
  {
   "cell_type": "markdown",
   "metadata": {},
   "source": [
    "Мы также можем добавить другие методы к нашей обобщенной функции `foo`. Добавим такой, который принимает **абстрактный тип** `Number` (число), который включает в себя подтипы `Int`, `Float64` и другие объекты, о которых мы думаем, как о числах."
   ]
  },
  {
   "cell_type": "code",
   "execution_count": null,
   "metadata": {},
   "outputs": [],
   "source": [
    "foo(x::Number, y::Number) = println(\"My inputs x and y are both numbers!\")"
   ]
  },
  {
   "cell_type": "markdown",
   "metadata": {},
   "source": [
    "Этот метод срабатывает если на него подаются, например числа с плавающей запятой:"
   ]
  },
  {
   "cell_type": "code",
   "execution_count": null,
   "metadata": {},
   "outputs": [],
   "source": [
    "foo(3.0, 4)"
   ]
  },
  {
   "cell_type": "markdown",
   "metadata": {},
   "source": [
    "Мы также можем добавить\n",
    "We can also add a резерный случай, метод с утиной типизацией для `foo` который принимает входные данные любого типа:"
   ]
  },
  {
   "cell_type": "code",
   "execution_count": null,
   "metadata": {},
   "outputs": [],
   "source": [
    "foo(x, y) = println(\"I accept inputs of any type!\")"
   ]
  },
  {
   "cell_type": "code",
   "execution_count": null,
   "metadata": {},
   "outputs": [],
   "source": [
    "methods(foo)"
   ]
  },
  {
   "cell_type": "markdown",
   "metadata": {},
   "source": [
    "В отличие от методов, которые мы до этого написали для `foo` этот метод вызывается, когда мы применяем `foo` к нечисловым аргументам:"
   ]
  },
  {
   "cell_type": "code",
   "execution_count": null,
   "metadata": {},
   "outputs": [],
   "source": [
    "v = rand(3)\n",
    "foo(v, v)\n",
    "v = nothing"
   ]
  },
  {
   "cell_type": "code",
   "execution_count": null,
   "metadata": {},
   "outputs": [],
   "source": [
    "v"
   ]
  },
  {
   "cell_type": "markdown",
   "metadata": {},
   "source": [
    "### Упражнения\n",
    "\n",
    "#### 9.1\n",
    "\n",
    "Расширьте функцию `foo`, принимает только один аргумент типа `Bool`, и возвращает \"foo with one boolean!\""
   ]
  },
  {
   "cell_type": "code",
   "execution_count": null,
   "metadata": {},
   "outputs": [],
   "source": []
  },
  {
   "cell_type": "markdown",
   "metadata": {},
   "source": [
    "#### 9.2\n",
    "\n",
    "Проверьте, что метод, который вы вызываете при заданном ниже вызове функции `foo`: \n",
    "```julia\n",
    "foo(true)\n",
    "```\n",
    "тот самый, который вы написали"
   ]
  },
  {
   "cell_type": "code",
   "execution_count": null,
   "metadata": {},
   "outputs": [],
   "source": []
  },
  {
   "cell_type": "code",
   "execution_count": null,
   "metadata": {
    "deletable": false,
    "editable": false,
    "hide_input": true,
    "nbgrader": {
     "checksum": "af0db7a08de56491e57f4c882296a00f",
     "grade": true,
     "grade_id": "cell-14072e60ae07c1a2",
     "locked": true,
     "points": 1,
     "schema_version": 1,
     "solution": false
    }
   },
   "outputs": [],
   "source": [
    "@assert foo(true) == \"foo with one boolean!\""
   ]
  }
 ],
 "metadata": {
  "anaconda-cloud": {},
  "kernelspec": {
   "display_name": "Julia 1.6.2",
   "language": "julia",
   "name": "julia-1.6"
  },
  "language": "Julia",
  "language_info": {
   "file_extension": ".jl",
   "mimetype": "application/julia",
   "name": "julia",
   "version": "1.6.2"
  },
  "toc": {
   "nav_menu": {
    "height": "119px",
    "width": "251px"
   },
   "navigate_menu": true,
   "number_sections": true,
   "sideBar": true,
   "threshold": "2",
   "toc_cell": false,
   "toc_section_display": "block",
   "toc_window_display": false
  }
 },
 "nbformat": 4,
 "nbformat_minor": 4
}
