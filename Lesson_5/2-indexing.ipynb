{
 "cells": [
  {
   "cell_type": "markdown",
   "metadata": {},
   "source": [
    "# Индексация\n",
    "## Числовая индексация\n",
    "В Julia индексами чаще всего являются целые числа. Для обращения по заданному индексу используется команда `[]`."
   ]
  },
  {
   "cell_type": "code",
   "execution_count": null,
   "metadata": {},
   "outputs": [],
   "source": [
    "A = [1 8 4 2; \n",
    "     -4 2 3 5]"
   ]
  },
  {
   "cell_type": "markdown",
   "metadata": {},
   "source": [
    "Команда `A[1, 2]` вернёт элемент `A`, который находится в первой строке, во втором столбце.\n",
    "\n"
   ]
  },
  {
   "cell_type": "code",
   "execution_count": null,
   "metadata": {},
   "outputs": [],
   "source": [
    "A[1, 2]"
   ]
  },
  {
   "cell_type": "markdown",
   "metadata": {},
   "source": [
    "Но индексами могут быть не только целые числа. Допустим, мы хотим обратиться к элементам `A`, стоящим во второй строке в 3 и в 4 столбцах. Тогда в качестве индекса можно использовать вектор `[3, 4]`."
   ]
  },
  {
   "cell_type": "code",
   "execution_count": null,
   "metadata": {},
   "outputs": [],
   "source": [
    "A[2, [3, 4]]"
   ]
  },
  {
   "cell_type": "markdown",
   "metadata": {},
   "source": [
    "Также к элементам массива можно обращаться, используя последовательности. Команда `A[2, 1:3]` вернёт элементы матрицы `A` из второй строки из столбцов с 1 по 3."
   ]
  },
  {
   "cell_type": "code",
   "execution_count": null,
   "metadata": {},
   "outputs": [],
   "source": [
    "A[2, 1:3]"
   ]
  },
  {
   "cell_type": "markdown",
   "metadata": {},
   "source": [
    "Можно сочетать вектор и последовательность. Команда `A[2, [1:2; 4]]` вернет элементы из второй строки, из столбцов с первого по второй и из четвёртого."
   ]
  },
  {
   "cell_type": "code",
   "execution_count": null,
   "metadata": {},
   "outputs": [],
   "source": [
    "A[2, [1:2; 4]]"
   ]
  },
  {
   "cell_type": "markdown",
   "metadata": {},
   "source": [
    "## Логическая индексация\n",
    "Помимо чисел и массивов чисел в Julia можно использовать логическую индексацию, её также называют \"маской\". Для того, чтобы её применить, нужно создать массив из логических значений (`false`, `true`), равный по размеру тому массиву, к которому вы хотите его применить. Когда вы применяете маску, выделяются только те элементы, которые соответствуют значению `true` у маски. Для примера рассмотрим маску для матрицы A."
   ]
  },
  {
   "cell_type": "code",
   "execution_count": null,
   "metadata": {},
   "outputs": [],
   "source": [
    "A = [1 8 4 2; \n",
    "     -4 2 3 5]"
   ]
  },
  {
   "cell_type": "markdown",
   "metadata": {},
   "source": [
    "Создадим массив `mask`. Размерность маски должна совпадать с размерностью матрицы."
   ]
  },
  {
   "cell_type": "code",
   "execution_count": null,
   "metadata": {},
   "outputs": [],
   "source": [
    "mask = [true true false false; false true false false]"
   ]
  },
  {
   "cell_type": "markdown",
   "metadata": {},
   "source": [
    "Теперь применим `mask` к `A`"
   ]
  },
  {
   "cell_type": "code",
   "execution_count": null,
   "metadata": {},
   "outputs": [],
   "source": [
    "A[mask]"
   ]
  },
  {
   "cell_type": "markdown",
   "metadata": {},
   "source": [
    "Видно, что выделились те элементы матрицы `A`, которые находились там, где в `mask` находились `true`. Эту индексацию можно использовать, чтобы что-то сделать с элементами матрицы `A`."
   ]
  },
  {
   "cell_type": "code",
   "execution_count": null,
   "metadata": {},
   "outputs": [],
   "source": [
    "A[mask] .= 42;\n",
    "A"
   ]
  },
  {
   "cell_type": "markdown",
   "metadata": {},
   "source": [
    "Как известно из предыдущих уроков, к матрицам с помощью `broadcast` можно применять и логические функции. После такой операции получится новая логическая матрица, размерность которой совпадает с оригинальной! Эти можно пользоваться, например, так:"
   ]
  },
  {
   "cell_type": "code",
   "execution_count": null,
   "metadata": {},
   "outputs": [],
   "source": [
    "mask = (A .>= 4)\n",
    "A[mask]"
   ]
  },
  {
   "cell_type": "markdown",
   "metadata": {},
   "source": [
    "Что здесь происходило? Сначала мы применяем к `A` операцию `.>=4`, которая создаёт логический массив (точнее, битовый) у которого все значения равны false, кроме тех, которые находятся на местах, где в массиве `A` элемент больше или равняется 4. Затем мы обращаемся к этим элементам с помощью `A[mask]`. То же самое можно выполнить в одну строчку, не используя отдельную переменную."
   ]
  },
  {
   "cell_type": "code",
   "execution_count": null,
   "metadata": {},
   "outputs": [],
   "source": [
    "A[A .>= 4]"
   ]
  },
  {
   "cell_type": "markdown",
   "metadata": {},
   "source": [
    "### Упражнение 1\n",
    "Задайте матрицу `A`, размером 100х100. Элементы в первых 50 столбцах и в столбцах с 75 по 80 должны быть равны 1. В остальных столбцах в строках с 20 по 30 должны находится 2, а в строках 71, 75, 79 должны находится 3. Остальные элементы должны быть равны 0."
   ]
  },
  {
   "cell_type": "code",
   "execution_count": null,
   "metadata": {},
   "outputs": [],
   "source": [
    "A = Matrix{Int64}(undef, 100, 100);"
   ]
  },
  {
   "cell_type": "code",
   "execution_count": null,
   "metadata": {},
   "outputs": [],
   "source": [
    "@assert all(A[[1, 5, 76], [1, 5, 76]] .== 1)\n",
    "@assert all(A[20:25, 56:65] .== 2)\n",
    "@assert all(A[71, [55;56]] .== 3)"
   ]
  },
  {
   "cell_type": "markdown",
   "metadata": {},
   "source": [
    "### Упражнение 2\n",
    "Задайте матрицу A 20x20, состоящую из случайных целых чисел от 8 до 25. Используя логическую индексацию, все чётные элементы в этой матрице уменьшите в 2 раза (целочисленным делением). Все элементы, большие 20 задайте равными 0. В VisualStudio Code, если наведёте мышкой на функцию rand, то получите подсказку, как она работает."
   ]
  },
  {
   "cell_type": "code",
   "execution_count": null,
   "metadata": {},
   "outputs": [],
   "source": [
    "import Random; Random.seed!(100)\n",
    "A = rand()"
   ]
  },
  {
   "cell_type": "code",
   "execution_count": null,
   "metadata": {},
   "outputs": [],
   "source": [
    "using CSV; using DataFrames;\n",
    "@assert A == Matrix(CSV.read(\"problem2ans.csv\", DataFrame))"
   ]
  }
 ],
 "metadata": {
  "kernelspec": {
   "display_name": "Julia 1.7.2",
   "language": "julia",
   "name": "julia-1.7"
  },
  "language_info": {
   "file_extension": ".jl",
   "mimetype": "application/julia",
   "name": "julia",
   "version": "1.7.2"
  },
  "orig_nbformat": 4
 },
 "nbformat": 4,
 "nbformat_minor": 2
}
