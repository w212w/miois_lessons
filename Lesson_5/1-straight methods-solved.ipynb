{
 "cells": [
  {
   "cell_type": "markdown",
   "metadata": {},
   "source": [
    "# Решение СЛАУ прямыми методами\n",
    "Системы линейных алгебраических уравнений выглядят так:\n",
    "$$\n",
    " \\left\n",
    "\\{\\begin{gathered}\n",
    "a_{11}x_1 + a_{12}x_2 + \\dots + a_{1n}x_n = b_1 \\\\\n",
    "a_{21}x_1 + a_{22}x_2 + \\dots + a_{2n}x_n = b_2 \\\\\n",
    "\\cdots \\\\\n",
    "a_{n1}x_1 + a_{n2}x_2 + \\dots + a_{nn}x_n = b_n \\\\\n",
    "\\end{gathered}\n",
    "\\right.,\n",
    "$$\n",
    "где $x_i$ – неизвестные, $a_{ij}$ – коэффициенты, $b_j$ – свободные члены.\n",
    "\n",
    "СЛАУ можно записать в матричном виде:\n",
    "$$\n",
    "\\begin{bmatrix}\n",
    "        a_{11} & a_{12} & \\ldots & a_{1n} \\\\\n",
    "        a_{21} & a_{22} & \\ldots & a_{2n} \\\\\n",
    "        \\vdots & \\vdots & \\ddots & \\vdots \\\\\n",
    "        a_{n1} & a_{n2} & \\ldots & a_{nn} \\\\ \n",
    "\\end{bmatrix}\n",
    "\\begin{bmatrix}\n",
    "        x_1 \\\\\n",
    "        x_2 \\\\\n",
    "        \\vdots \\\\\n",
    "        x_n\\\\\n",
    "\\end{bmatrix}\n",
    "=\n",
    "\\begin{bmatrix}\n",
    "        b_1 \\\\\n",
    "        b_2 \\\\\n",
    "        \\vdots \\\\\n",
    "        b_n\\\\\n",
    "\\end{bmatrix},\n",
    "$$\n",
    "или, если коротко:\n",
    "$$\n",
    "\\mathbf{AX=B}.\n",
    "$$,\n",
    "где $\\mathbf{A}$ – матрица коэффициентов (матрица системы), $\\mathbf{X}$ – вектор неизвестных, $\\mathbf{B}$ – вектор свободных членов."
   ]
  },
  {
   "cell_type": "markdown",
   "metadata": {},
   "source": [
    "Напоминаем, что в языке Julia вектор можно задать с помощью символов `[]`, отделяя элементы запятой. Например:"
   ]
  },
  {
   "cell_type": "code",
   "execution_count": null,
   "metadata": {},
   "outputs": [],
   "source": [
    "b_1 = [1, 0.5, 4]"
   ]
  },
  {
   "cell_type": "markdown",
   "metadata": {},
   "source": [
    "Матрицу можно задать той же командой, отделяя элементы в строке пробелом, а в столбце символом `;`."
   ]
  },
  {
   "cell_type": "code",
   "execution_count": null,
   "metadata": {},
   "outputs": [],
   "source": [
    "A = [1 -2 4;\n",
    "     2 5 -1;\n",
    "     4 8 -2]"
   ]
  },
  {
   "cell_type": "markdown",
   "metadata": {},
   "source": [
    "В Julia есть специальная команда для решения СЛАУ – обратное деление `\\`. Пример использования ниже:"
   ]
  },
  {
   "cell_type": "code",
   "execution_count": null,
   "metadata": {},
   "outputs": [],
   "source": [
    "A = [1 0; 1 -2]; \n",
    "B = [32, -4];\n",
    "X = A \\ B"
   ]
  },
  {
   "cell_type": "code",
   "execution_count": null,
   "metadata": {},
   "outputs": [],
   "source": [
    "A*X == B"
   ]
  },
  {
   "cell_type": "markdown",
   "metadata": {},
   "source": [
    "Несмотря на то, что Julia есть эта команда, она не всегда эффективно решает СЛАУ, поэтому пока мы будем использовать её только для проверки решений. Мы изучим различные методы решения СЛАУ. Эти методы можно разделить на *прямые* и *итерационные*.\n",
    "\n",
    "В прямых методах ищется точное решение СЛАУ за фиксированное количество операций. В итерационных методах применяется некоторый повторяющийся процесс, который с каждым новым применением даёт всё более точное решение. Строго говоря, точное решение может быть получено за бесконечное число операций, однако приближенное решение с необходимой точностью зачастую может быть получено за число операций много меньшее, чем необходимо для решения задачи прямыми методами.\n",
    "\n",
    "В общем случае существует всего три прямых метода решения СЛАУ:\n",
    "1. Метод Крамера\n",
    "2. Поиск обратной матрицы\n",
    "3. Метод иллюминации Гаусса\n",
    "\n",
    "Кроме данных методов существует так же ряд прямых методов, позволяющий решать СЛАУ с различными особенностями, например с симметричной матрицей $\\mathbf{A}$ (метод Холецкого). \n",
    "\n",
    "Далее разберём метод Гаусса. Он состоит из двух частей: *прямого* хода и *обратного*.\n",
    "\n",
    "## Метод Гаусса\n",
    "### Прямой ход\n",
    "При прямом ходе матрицу $\\mathbf{A}$ приводят к верхнетреугольному виду. Для этого из второго уравнения системы вычитают первое, умноженное на коэффициент $\\cfrac{a_{21}}{a_{11}}$. Аналогичную процедуру проводят для всех уравнений (строк матрицы). В итоге получим, что все коэффициенты при $x_1$, кроме первого будут равны нулю. Полученная система будет иметь вид:\n",
    "\n",
    "$$\n",
    " \\left\n",
    "\\{\\begin{align*}\n",
    "a_{11}x_1 + a_{12}x_2 + \\dots + a_{1n}x_n &= b_1 \\\\\n",
    "0 \\quad + a_{22}^{(1)}x_2 + \\dots + a_{2n}^{(1)}x_n &= b_2^{(1)} \\\\\n",
    "\\cdots \\qquad\\quad\\:\\:\\:&\\\\\n",
    "0 \\quad + a_{n2}^{(1)}x_2 + \\dots + a_{nn}^{(1)}x_n &= b_n^{(1)} \\\\\n",
    "\\end{align*}\n",
    "\\right..\n",
    "$$\n",
    "\n",
    "Далее из третьего уравнения системы вычитают второе, умноженное на коэффициент $\\cfrac{a_{32}}{a_{22}}$, и то же самое делают для всех оставшихся строк. В результате получим следующий вид СЛАУ:\n",
    "\n",
    "$$\n",
    " \\left\n",
    "\\{\\begin{align*}\n",
    "a_{11}x_1 + a_{12}x_2 + a_{13}x_3 + \\dots + a_{1n}x_n &= b_1 \\\\\n",
    "0 \\quad+ a_{22}^{(1)}x_2 + a_{23}^{(1)}x_2  + \\dots + a_{2n}^{(1)}x_n &= b_2^{(1)} \\\\\n",
    "0 \\quad+ \\quad 0 \\quad + a_{33}^{(2)}x_3  + \\dots + a_{3n}^{(2)}x_n &= b_3^{(2)} \\\\\n",
    "\\cdots \\qquad\\quad\\:\\:\\:&\\\\\n",
    "0 \\quad + \\quad 0 \\quad + a_{n3}^{(2)}x_3 + \\dots + a_{nn}^{(2)}x_n &= b_n^{(2)} \\\\\n",
    "\\end{align*}\n",
    "\\right.,\n",
    "$$\n",
    "\n",
    "и так далее до тех пор, пока не придём к верхне-треугольному виду:\n",
    "\n",
    "$$\n",
    " \\left\n",
    "\\{\\begin{align*}\n",
    "a_{11}x_1 + a_{12}x_2 + a_{13}x_3 + &\\dots + a_{1n}x_n = b_1 \\\\\n",
    "0 \\quad + a_{22}^{(1)}x_2 + a_{23}^{(1)}x_2  + &\\dots + a_{2n}^{(1)}x_n = b_2^{(1)} \\\\\n",
    "0 \\quad +\\quad  0 \\quad + a_{33}^{(2)}x_3  + &\\dots + a_{3n}^{(2)}x_n  = b_3^{(2)} \\\\\n",
    "&\\cdots \\\\\n",
    "0 \\quad +\\quad  0 \\quad + \\quad  0 \\quad + &\\dots + a_{nn}^{(n-1)}x_n = b_n^{(n-1)} \\\\\n",
    "\\end{align*}\n",
    "\\right..\n",
    "$$\n",
    "\n",
    "Если записать, в матричном виде:\n",
    "$$\n",
    "\\begin{bmatrix}\n",
    "        a_{11} & a_{12} & \\ldots & a_{1n} \\\\\n",
    "        0 & a_{22}^{(1)} & \\ldots & a_{2n}^{(1)} \\\\\n",
    "        \\vdots & \\vdots & \\ddots & \\vdots \\\\\n",
    "        0 & 0 & \\ldots & a_{nn}^{(n-1)} \\\\ \n",
    "\\end{bmatrix}\n",
    "\\begin{bmatrix}\n",
    "        x_1 \\\\\n",
    "        x_2 \\\\\n",
    "        \\vdots \\\\\n",
    "        x_n\\\\\n",
    "\\end{bmatrix}\n",
    "=\n",
    "\\begin{bmatrix}\n",
    "        b_1 \\\\\n",
    "        b_2^{(1)} \\\\\n",
    "        \\vdots \\\\\n",
    "        b_n^{(n-1)}\\\\\n",
    "\\end{bmatrix}\n",
    ".\n",
    "$$\n",
    "\n",
    "Рассмотрим на примере, как привести к верхне-треугольному виду СЛАУ\n",
    "$$\n",
    "\\left\\{\\begin{array}{ccc}2x + y - z &=& 8 \\\\\n",
    "-3x - y + 2z &=& -11 \\\\\n",
    "-2x + y + 2z &=& -3 \\end{array}\\right.,\n",
    "$$\n",
    "используя средства Julia. Зададим матрицу системы `A` и вектор свободных членов `B`."
   ]
  },
  {
   "cell_type": "code",
   "execution_count": null,
   "metadata": {},
   "outputs": [],
   "source": [
    "A = Float64.([2 1 -1;\n",
    "              -3 -1 2;\n",
    "              -2 1 2])"
   ]
  },
  {
   "cell_type": "code",
   "execution_count": null,
   "metadata": {},
   "outputs": [],
   "source": [
    "B = Float64.([8, -11, -3])"
   ]
  },
  {
   "cell_type": "markdown",
   "metadata": {},
   "source": [
    "Создадим *присоединённую* матрицу (матрицу, состоящую из из матрицы `A`, к которой справа присоединили вектор `B`). Её удобно использовать, чтобы не производить отдельно операции с B."
   ]
  },
  {
   "cell_type": "code",
   "execution_count": null,
   "metadata": {},
   "outputs": [],
   "source": [
    "A_pr = [A B]"
   ]
  },
  {
   "cell_type": "markdown",
   "metadata": {},
   "source": [
    "Далее, вычтем из второй строки первую, умноженную на $\\cfrac{a_{21}}{a_{11}}$. Для этого используем срезы."
   ]
  },
  {
   "cell_type": "code",
   "execution_count": null,
   "metadata": {},
   "outputs": [],
   "source": [
    "A_pr[2, :] -= A_pr[1, :] * A_pr[2,1] / A_pr[1,1];\n",
    "A_pr"
   ]
  },
  {
   "cell_type": "markdown",
   "metadata": {},
   "source": [
    "Проделаем аналогичную операцию для третьей строки."
   ]
  },
  {
   "cell_type": "code",
   "execution_count": null,
   "metadata": {},
   "outputs": [],
   "source": [
    "A_pr[3, :] -= A_pr[1, :] * A_pr[3,1] / A_pr[1,1];\n",
    "A_pr"
   ]
  },
  {
   "cell_type": "markdown",
   "metadata": {},
   "source": [
    "Теперь первый столбец заполнен нулями, кроме самого первого элемента. Повторим со вторым столбцом, потребуется вычесть вторую строку всего 1 раз."
   ]
  },
  {
   "cell_type": "code",
   "execution_count": null,
   "metadata": {},
   "outputs": [],
   "source": [
    "A_pr[3, :] -= A_pr[2, :] * A_pr[3,2] / A_pr[2,2];\n",
    "A_pr"
   ]
  },
  {
   "cell_type": "markdown",
   "metadata": {},
   "source": [
    "### Обратный ход\n",
    "После прямого хода необходимо выполнить обратный ход, чтобы найти вектор неизвестных. Последний элемент этого вектора - $x_n$ легко найти из последней строки:\n",
    "$$\n",
    "x_n = \\cfrac{b_n^{(n-1)}}{a_{nn}^{(n-1)}}.\n",
    "$$\n",
    "Соответсвенно, следующий неизвестный элемент можно найти, подставив $x_n$ в предпоследнее уравнение:\n",
    "$$\n",
    "x_{n-1} = \\cfrac{b_n^{(n-2)}-a_{(n-1) n}^{(n-2)}x_n}{a_{(n-1)  (n-1)}^{(n-2)}},\n",
    "$$\n",
    "и так далее. \n",
    "\n",
    "Рассмотрим продолжение примера и решим приведённую к треугольному виду СЛАУ. Зададимся вектором неизвестных `X`."
   ]
  },
  {
   "cell_type": "code",
   "execution_count": null,
   "metadata": {},
   "outputs": [],
   "source": [
    "X = Vector{Float64}(undef, 3)"
   ]
  },
  {
   "cell_type": "markdown",
   "metadata": {},
   "source": [
    "Для удобства разделим присоединённую матрицу:"
   ]
  },
  {
   "cell_type": "code",
   "execution_count": null,
   "metadata": {},
   "outputs": [],
   "source": [
    "A = A_pr[1:3,1:3];\n",
    "B = A_pr[1:3, 4];"
   ]
  },
  {
   "cell_type": "markdown",
   "metadata": {},
   "source": [
    "Присвоим значение в последний элемент вектора `X`. Для последнего элемента можно использовать индекс `end`"
   ]
  },
  {
   "cell_type": "code",
   "execution_count": null,
   "metadata": {},
   "outputs": [],
   "source": [
    "X[end] = B[end]/A[end,end]"
   ]
  },
  {
   "cell_type": "markdown",
   "metadata": {},
   "source": [
    "Далее занесём значение в предпоследний элемент `X`:"
   ]
  },
  {
   "cell_type": "code",
   "execution_count": null,
   "metadata": {},
   "outputs": [],
   "source": [
    "X[end-1] = (B[end-1] - A[end-1, end] * X[end]) / A[end-1, end-1]"
   ]
  },
  {
   "cell_type": "markdown",
   "metadata": {},
   "source": [
    "Осталось найти последний элемент. Для простоты используем `broadcast` и функцию `sum()`:"
   ]
  },
  {
   "cell_type": "code",
   "execution_count": null,
   "metadata": {},
   "outputs": [],
   "source": [
    "X[end-2] = (B[end-2] - sum(A[end-2, end-1:end] .* X[end-1:end]))/A[end-2, end-2];\n",
    "X"
   ]
  },
  {
   "cell_type": "markdown",
   "metadata": {},
   "source": [
    "Проверяем:"
   ]
  },
  {
   "cell_type": "code",
   "execution_count": null,
   "metadata": {},
   "outputs": [],
   "source": [
    "A\\B == X"
   ]
  },
  {
   "cell_type": "markdown",
   "metadata": {},
   "source": [
    "### Упражнение 1\n",
    "Создать функцию `uptri(M::AbstractMatrix)`, которая из заданной матрицы делает верхнетреугольную."
   ]
  },
  {
   "cell_type": "code",
   "execution_count": null,
   "metadata": {},
   "outputs": [],
   "source": [
    "function uptri(M::AbstractMatrix)\n",
    "    A = copy(M)             # копируем матрицу, чтобы не изменять исходную\n",
    "    n = size(A,1)           # записываем в n количество строк матрицы\n",
    "    for i in 1:n-1          # главный цикл - осуществляет операцию для каждой строки\n",
    "        for j in i+1:n      # вложенный цикл для вычитания строк\n",
    "            A[j, :] .-= A[i, :] / A[i, i] * A[j, i] # из j-й строки вычесть i-ю, умноженную на соответствующие коэффициенты. Чтобы сделать это со всеми столбацами, используется срез.\n",
    "                                                    # P.S. можно ускорить, если выполнять операцию не для всех столбцов, а для j-1:end, но тогда код менее понятный\n",
    "        end\n",
    "    end\n",
    "    return A\n",
    "end"
   ]
  },
  {
   "cell_type": "code",
   "execution_count": null,
   "metadata": {},
   "outputs": [],
   "source": [
    "@assert uptri(Float64.([2 1 -1;-3 -1 2;-2 1 2])) == [2.0 1.0 -1.0; 0.0 0.5 0.5; 0.0 0.0 -1.0]"
   ]
  },
  {
   "cell_type": "markdown",
   "metadata": {},
   "source": [
    "### Упражнение 2\n",
    "Создать функцию `gauss(A::AbstractMatrix,B::AbstractVector)::Vector{Float64}`, которая находит решение СЛАУ с матрицей `A` и вектором `B` методом Гаусса. Можно использовать уже имеющуюся функцию `uptri`."
   ]
  },
  {
   "cell_type": "code",
   "execution_count": null,
   "metadata": {},
   "outputs": [],
   "source": [
    "function gauss(A::AbstractMatrix, B::AbstractVector)::Vector{Float64}\n",
    "    n = size(A,1)\n",
    "    X = zeros(Float64, n) # задаём вектор X из нулей\n",
    "    \n",
    "    A_pr = uptri([A B]) # применяем ранее написанную функцию к присоединённой матрице\n",
    "    A_new = A_pr[1:end, 1:end-1] # Разделяем полученную матрицу\n",
    "    B_new = A_pr[1:end, end]\n",
    "    \n",
    "    X[n] = B_new[n]/A_new[n, n] # находим последний X\n",
    "    for i in n-1:-1:1 \n",
    "        X[i] = (B_new[i] - sum(A_new[i, i+1:n] .* X[i+1:n]))/A_new[i,i] # последовательно, начиная с конца, находим X[i]. Используем значение X, полученное на предыдущем шаге\n",
    "    end\n",
    "    return X\n",
    "end"
   ]
  },
  {
   "cell_type": "code",
   "execution_count": null,
   "metadata": {},
   "outputs": [],
   "source": [
    "A = Float64.([2 1 -1;\n",
    "              -3 -1 2;\n",
    "              -2 1 2]);\n",
    "\n",
    "B = Float64.([8, -11, -3])\n",
    "X = gauss(A, B)\n",
    "@assert X ≈ A \\ B"
   ]
  }
 ],
 "metadata": {
  "kernelspec": {
   "display_name": "Julia 1.7.2",
   "language": "julia",
   "name": "julia-1.7"
  },
  "language_info": {
   "file_extension": ".jl",
   "mimetype": "application/julia",
   "name": "julia",
   "version": "1.8.2"
  },
  "orig_nbformat": 4
 },
 "nbformat": 4,
 "nbformat_minor": 2
}
