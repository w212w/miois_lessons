{
 "cells": [
  {
   "cell_type": "markdown",
   "metadata": {},
   "source": [
    "# Лекция №6\n",
    "## Содержание\n",
    "1. Итерационные методы решения СЛАУ\n",
    "   1. [Метод Якоби-Гаусса](2_solve_jacobi.ipynb)\n",
    "   2. [Метод Гаусса-Зейделя](3_solve_zeidel.ipynb)\n",
    "2. Факторизация матриц\n",
    "   1. [$\\mathbf{LU}$ - разложение](4_matrix_decomposition_lu.ipynb)\n",
    "   2. [Разложение Холецкого](5_matrix_decomposition_cholesk.ipynb) ($\\mathbf{LL^T}$ - разложение)\n",
    "   3. $\\mathbf{QR}$ - разложение\n",
    "   4. Спектральное разложение\n",
    "   5. Сингулярное разложение"
   ]
  },
  {
   "cell_type": "markdown",
   "metadata": {},
   "source": []
  }
 ],
 "metadata": {
  "kernelspec": {
   "display_name": "Python 3.8.8 ('base')",
   "language": "python",
   "name": "python3"
  },
  "language_info": {
   "name": "python",
   "version": "3.8.8"
  },
  "orig_nbformat": 4,
  "vscode": {
   "interpreter": {
    "hash": "86f8ceae1d202a115708ec94a4d2bd65a19fd49fc2fcce341aff580d38dbf0b4"
   }
  }
 },
 "nbformat": 4,
 "nbformat_minor": 2
}
