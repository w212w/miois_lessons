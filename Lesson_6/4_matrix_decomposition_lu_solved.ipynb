{
 "cells": [
  {
   "cell_type": "markdown",
   "metadata": {},
   "source": [
    "# Факторизация матриц\n",
    "## Содержание\n",
    "1. [$\\mathbf{LU}$ - разложение](#lu_decomposition)\n",
    "2. [Разложение Холецкого ($\\mathbf{LL^T}$ - разложение)](matrix_decomposition_cholesk.ipynb)\n",
    "3. $\\mathbf{QR}$ - разложение\n",
    "4. Спектральное разложение\n",
    "5. Сингулярное разложение"
   ]
  },
  {
   "cell_type": "markdown",
   "metadata": {},
   "source": [
    "<a id='lu_decomposition'></a>\n",
    "## $\\mathbf{LU}$ - разложение\n",
    "$\\mathbf{LU}$ - разложением называется разложение **квадратной** матрицы на произведение нижнетреугольной и верхнетреугольной матриц\n",
    "$$\n",
    "\\mathbf{A = LU}\\\\\n",
    "\\begin{bmatrix}\n",
    "        a_{11} & a_{12} & a_{13} & \\ldots & a_{1n} \\\\\n",
    "        a_{21} & a_{22} & a_{23} & \\ldots & a_{2n} \\\\\n",
    "        a_{31} & a_{32} & a_{33} & \\ldots & a_{3n} \\\\\n",
    "        \\vdots & \\vdots & \\vdots & \\ddots & \\vdots \\\\\n",
    "        a_{n1} & a_{n2} & a_{n3} & \\ldots & a_{nn} \\\\ \n",
    "\\end{bmatrix}\n",
    " = \n",
    "\\begin{bmatrix}\n",
    "        1 & 0 & 0 & \\ldots & 0 \\\\\n",
    "        l_{21} & 1 & 0 & \\ldots & 0 \\\\\n",
    "        l_{31} & l_{32} & 1 & \\ldots & 0 \\\\\n",
    "        \\vdots & \\vdots & \\vdots & \\ddots & \\vdots \\\\\n",
    "        l_{n1} & l_{n2} & l_{n3} & \\ldots & 1 \\\\ \n",
    "\\end{bmatrix}\n",
    "\\begin{bmatrix}\n",
    "        u_{11}  & u_{12}        & u_{13}        & \\ldots        & u_{1n} \\\\\n",
    "        0       & u_{22}        & u_{23}        & \\ldots        & u_{2n} \\\\\n",
    "        0       & 0             & u_{33}        & \\ldots        & u_{3n} \\\\\n",
    "        \\vdots  & \\vdots        & \\vdots        & \\ddots        & \\vdots \\\\\n",
    "        0       & 0             & 0             & \\ldots        & u_{nn} \\\\ \n",
    "\\end{bmatrix}\n",
    "$$\n"
   ]
  },
  {
   "cell_type": "markdown",
   "metadata": {},
   "source": [
    "Если мы расспишем произведение $\\mathbf{LU}$, то получится что матрица $\\mathbf{A}$ равна:\n",
    "$$\n",
    "\\begin{bmatrix}\n",
    "        a_{11} & a_{12} & a_{13} & \\ldots & a_{1n} \\\\\n",
    "        a_{21} & a_{22} & a_{23} & \\ldots & a_{2n} \\\\\n",
    "        a_{31} & a_{32} & a_{33} & \\ldots & a_{3n} \\\\\n",
    "        \\vdots & \\vdots & \\vdots & \\ddots & \\vdots \\\\\n",
    "        a_{n1} & a_{n2} & a_{n3} & \\ldots & a_{nn} \\\\ \n",
    "\\end{bmatrix}\n",
    " = \n",
    " \\begin{bmatrix}\n",
    "        u_{11}          & u_{22}                        & u_{23}                                        & \\ldots & u_{1n} \\\\\n",
    "        l_{21}u_{11}    & l_{21}u_{12} + u_{22}         & l_{21}u_{13} + u_{23}                         & \\ldots & l_{21}u_{1n} + u_{2n} \\\\\n",
    "        l_{31}u_{11}    & l_{31}u_{12} + l_{32}u_{22}   & l_{31}u_{13} + l_{32}u_{23} + u_{33}          & \\ldots & l_{31}u_{1n} + l_{32}u_{2n} + u_{3n} \\\\\n",
    "        \\vdots          & \\vdots                        & \\vdots                                        & \\ddots & \\vdots \\\\\n",
    "        l_{n1}u_{11}    & l_{n1}u_{12} + l_{n2}u_{22}   & l_{n1}u_{13} + l_{n2}u_{23} + l_{n3}u_{33}    & \\ldots & \\left( \\sum_{i=1}^{n-1}{l_{ni}u_{in}} \\right) + u_{nn} \\\\ \n",
    "\n",
    " \\end{bmatrix}\n",
    "\n",
    " $$"
   ]
  },
  {
   "cell_type": "markdown",
   "metadata": {},
   "source": [
    "Из полученного выражения путем индукции можно записать выражения для элементов матриц $\\mathbf{L}$ и $\\mathbf{U}$\n",
    "$$\n",
    "    i = 1..n; \\ j = i..n\\\\\n",
    "    u_{ij} = a_{ij} - \\sum_{k=1}^{i-1}{l_{ik}u_{kj}}\\\\\n",
    "    l_{ii} = 1; \\quad\n",
    "    l_{ji} = \\left( u_{jj} \\right)^{-1} \\left( a_{ji} - \\sum_{k = 1}^{i-1}{l_{jk}u_{ki}} \\right)\n",
    "$$\n",
    "\n",
    "Используя приведенные формулы напишите функцию для расчета $\\mathbf{LU}$ - разложения"
   ]
  },
  {
   "cell_type": "code",
   "execution_count": 2,
   "metadata": {},
   "outputs": [
    {
     "data": {
      "text/plain": [
       "myLU (generic function with 1 method)"
      ]
     },
     "metadata": {},
     "output_type": "display_data"
    }
   ],
   "source": [
    "function myLU(A::AbstractMatrix{<:Number})::Tuple{Matrix{Float64},Matrix{Float64}}\n",
    "    \n",
    "    N = size(A,1);\n",
    "    L = zeros(Float64, N, N); U = zeros(Float64, N, N);\n",
    "    for i in 1:N\n",
    "        L[i,i] = 1; \n",
    "        for j in i:N\n",
    "            U[i,j] = A[i,j] - L[i, 1:i-1]' * U[ 1:i-1, j];\n",
    "            L[j,i] = (A[j,i] - L[j, 1:i-1]' * U[1:i-1, i]) / U[i,i]\n",
    "        end\n",
    "    end\n",
    "    return (L, U)\n",
    "end"
   ]
  },
  {
   "cell_type": "code",
   "execution_count": 51,
   "metadata": {},
   "outputs": [],
   "source": [
    "A = rand(10,10)\n",
    "L, U = myLU(A);\n",
    "@assert A ≈ L*U"
   ]
  },
  {
   "cell_type": "markdown",
   "metadata": {},
   "source": [
    "$\\mathbf{LU}$ - разложение полезно для следующих задач:\n",
    "1. Несложно заметить, что посколько матрицы треугольные, то их определитель будет равен произведению диагональных элементов, а учитывая что $l_{ii}=1$, то $\\det(\\mathbf{L})=1$, следовательно\n",
    "$$\n",
    "\\det(\\mathbf{A}) = \\det(\\mathbf{U}) = \\prod_{i=1}^{n}{u_{ii}}\n",
    "$$\n",
    "2. Имея $\\mathbf{LU}$ факторизацию матрицы довольно легко получить решение уравнения вида\n",
    "$$\n",
    "\\mathbf{Ax}=\\mathbf{b}\n",
    "$$\n",
    "используя метод решения уравнений с треугольной матрицей (обратный проход метода Гаусса):\n",
    "$$\n",
    "1.\\ \\mathbf{Ly}=\\mathbf{b}\\\\\n",
    "\\\\\n",
    "2.\\ \\mathbf{Ux}=\\mathbf{y}\n",
    "$$"
   ]
  },
  {
   "cell_type": "markdown",
   "metadata": {},
   "source": [
    "Реализуйте функцию решения системы с тругольной матрицей"
   ]
  },
  {
   "cell_type": "code",
   "execution_count": 5,
   "metadata": {},
   "outputs": [
    {
     "data": {
      "text/plain": [
       "solvetriang (generic function with 1 method)"
      ]
     },
     "metadata": {},
     "output_type": "display_data"
    }
   ],
   "source": [
    "function solvetriang(T::AbstractMatrix{<:Number}, b::AbstractVector{<:Number}, type::Symbol)::Vector{Float64}\n",
    "    N = size(b,1);\n",
    "    x = Vector{Float64}(undef, N);\n",
    "    if type == :Upper\n",
    "        for i in N:-1:1\n",
    "            x[i] = (b[i] - x[i+1:end]' * T[i, i+1:end])/T[i,i]\n",
    "        end\n",
    "    elseif type == :Lower\n",
    "        for i in 1:N\n",
    "            x[i] = (b[i] - x[1:i-1]' * T[i, 1:i-1])/T[i,i];\n",
    "        end\n",
    "    else\n",
    "        throw(Error(\"Unknown type of matrix\"))\n",
    "    end\n",
    "    return x;\n",
    "end"
   ]
  },
  {
   "cell_type": "markdown",
   "metadata": {},
   "source": [
    "Примените реализованные функции для решения системы со случайными матрицами"
   ]
  },
  {
   "cell_type": "code",
   "execution_count": 10,
   "metadata": {},
   "outputs": [],
   "source": [
    "A = rand(10,10); b = rand(10);\n",
    "L, U = myLU(A);\n",
    "y = solvetriang(L,b,:Lower);\n",
    "x = solvetriang(U,y,:Upper);\n",
    "@assert x ≈ A\\b"
   ]
  }
 ],
 "metadata": {
  "kernelspec": {
   "display_name": "Julia 1.7.3",
   "language": "julia",
   "name": "julia-1.7"
  },
  "language_info": {
   "file_extension": ".jl",
   "mimetype": "application/julia",
   "name": "julia",
   "version": "1.7.3"
  },
  "orig_nbformat": 4
 },
 "nbformat": 4,
 "nbformat_minor": 2
}
