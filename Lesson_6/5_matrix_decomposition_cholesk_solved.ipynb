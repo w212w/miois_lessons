{
 "cells": [
  {
   "cell_type": "markdown",
   "metadata": {},
   "source": [
    "## Разложение Холецкого\n",
    "Разложением Холецкого или $\\mathbf{LL^T}$ - разложением называется разложение **симметричной положительно определенной** матрицы на произведение нижнетреугольной матрицы на себя транспонированную\n",
    "$$\n",
    "\\mathbf{A = LL^T}\\\\\n",
    "\\begin{bmatrix}\n",
    "        a_{11} & a_{12} & a_{13} & \\ldots & a_{1n} \\\\\n",
    "        a_{21} & a_{22} & a_{23} & \\ldots & a_{2n} \\\\\n",
    "        a_{31} & a_{32} & a_{33} & \\ldots & a_{3n} \\\\\n",
    "        \\vdots & \\vdots & \\vdots & \\ddots & \\vdots \\\\\n",
    "        a_{n1} & a_{n2} & a_{n3} & \\ldots & a_{nn} \\\\ \n",
    "\\end{bmatrix}\n",
    " = \n",
    "\\begin{bmatrix}\n",
    "        l_{11} & 0 & 0 & \\ldots & 0 \\\\\n",
    "        l_{21} & l_{22} & 0 & \\ldots & 0 \\\\\n",
    "        l_{31} & l_{32} & l_{33} & \\ldots & 0 \\\\\n",
    "        \\vdots & \\vdots & \\vdots & \\ddots & \\vdots \\\\\n",
    "        l_{n1} & l_{n2} & l_{n3} & \\ldots & l_{nn} \\\\ \n",
    "\\end{bmatrix}\n",
    "\\begin{bmatrix}\n",
    "        l_{11}  & l_{21}    & l_{31}    & \\ldots    & l_{n1} \\\\\n",
    "        0       & l_{22}    & l_{32}    & \\ldots    & l_{n2} \\\\\n",
    "        0       & 0         & l_{33}    & \\ldots    & l_{n3} \\\\\n",
    "        \\vdots  & \\vdots    & \\vdots    & \\ddots    & \\vdots \\\\\n",
    "        0       & 0         & 0         & \\ldots    & l_{nn} \\\\ \n",
    "\\end{bmatrix}\n",
    "$$"
   ]
  },
  {
   "cell_type": "markdown",
   "metadata": {},
   "source": [
    "Если мы расспишем произведение $\\mathbf{LL^T}$, то получится что матрица $\\mathbf{A}$ равна:\n",
    "$$\n",
    "\\begin{bmatrix}\n",
    "        a_{11} & a_{12} & a_{13} & \\ldots & a_{1n} \\\\\n",
    "        a_{21} & a_{22} & a_{23} & \\ldots & a_{2n} \\\\\n",
    "        a_{31} & a_{32} & a_{33} & \\ldots & a_{3n} \\\\\n",
    "        \\vdots & \\vdots & \\vdots & \\ddots & \\vdots \\\\\n",
    "        a_{n1} & a_{n2} & a_{n3} & \\ldots & a_{nn} \\\\ \n",
    "\\end{bmatrix}\n",
    " = \n",
    " \\begin{bmatrix}\n",
    "        l^2_{11}        & l_{11}l_{22}                  & l_{11}l_{31}                                  & \\ldots        & l_{11}l_{n1} \\\\\n",
    "        l_{11}l_{22}    & l^2_{21} + l^2_{22}           & l_{21}l_{31} + l_{22}l_{32}                   & \\ldots        & l_{21}l_{n1} + l_{22}l_{n2} \\\\\n",
    "        l_{11}l_{31}    & l_{21}l_{31} + l_{22}l_{32}   & l^2_{31} + l^2_{32} + l^2_{33}                & \\ldots        & l_{31}l_{n1} + l_{32}l_{n2} + l_{33}l_{3n} \\\\\n",
    "        \\vdots          & \\vdots                        & \\vdots                                        & \\ddots        & \\vdots \\\\\n",
    "        l_{11}l_{n1}    & l_{21}l_{n1} + l_{22}l_{n2}   & l_{31}l_{n1} + l_{32}l_{n2} + l_{33}l_{3n}    & \\ldots        & \\left( \\sum_{i=1}^{n}{l^2_{ni}} \\right) \\\\ \n",
    "\n",
    " \\end{bmatrix}\n",
    "\n",
    " $$"
   ]
  },
  {
   "cell_type": "markdown",
   "metadata": {},
   "source": [
    "Тогда формулы для расчета элементов матрицы $\\mathbf{L}$ будут иметь вид\n",
    "\n",
    "Для диагональных элементов:\n",
    "\n",
    "$l_{ii} = \\sqrt{a_{ii} - \\sum_{j=1}^{i-1}{l_{ij}^2}}$\n",
    "\n",
    "Для остальных элементов:\n",
    "\n",
    "$l_{ji} = (a_{ji} - \\sum_{k=1}^{j-1}{l_{jk}l_{ik}})/l_{ii}$"
   ]
  },
  {
   "cell_type": "markdown",
   "metadata": {},
   "source": [
    "## Практическое задание:\n",
    "\n",
    "\n",
    "Реализуйте функцию, которая будет усреднять \\\"почти\\\" симметричную матрицу, делая ее строго симметрийчной"
   ]
  },
  {
   "cell_type": "code",
   "execution_count": 21,
   "metadata": {},
   "outputs": [
    {
     "data": {
      "text/plain": [
       "simmetrize! (generic function with 1 method)"
      ]
     },
     "metadata": {},
     "output_type": "display_data"
    }
   ],
   "source": [
    "function simmetrize!(A::AbstractMatrix{<:Real})\n",
    "    @assert A ≈ A'\n",
    "    A = 0.5*(A+A');\n",
    "end"
   ]
  },
  {
   "cell_type": "markdown",
   "metadata": {},
   "source": [
    "Реализуйте функцию, возвращающую для матрицы $\\mathbf{A}$  матрицу $\\mathbf{L}$ такую, что $\\mathbf{LL^T} = \\mathbf{A}$"
   ]
  },
  {
   "cell_type": "code",
   "execution_count": 13,
   "metadata": {},
   "outputs": [
    {
     "data": {
      "text/plain": [
       "mycholesky (generic function with 1 method)"
      ]
     },
     "metadata": {},
     "output_type": "display_data"
    }
   ],
   "source": [
    "function mycholesky(A::AbstractMatrix{<:Real})::Matrix{Float64}\n",
    "    @assert A == A'\n",
    "    N = size(A, 1);\n",
    "    L = zeros(Float64, N,N);\n",
    "    for i in 1:N\n",
    "        L[i,i] = sqrt(A[i,i] - L[i,1:i-1]' * L[i, 1:i-1]);\n",
    "        for j in i:N\n",
    "            L[j,i] = (A[j,i] - L[i,1:j-1]' * L[j, 1:j-1])/L[i,i];\n",
    "        end\n",
    "    end\n",
    "    return L;\n",
    "end"
   ]
  },
  {
   "cell_type": "code",
   "execution_count": 17,
   "metadata": {},
   "outputs": [],
   "source": [
    "mat = rand(10,10);\n",
    "A = mat'*mat;\n",
    "L = mycholesky(A)\n",
    "\n",
    "@assert A ≈ L * L'"
   ]
  }
 ],
 "metadata": {
  "kernelspec": {
   "display_name": "Julia 1.7.2",
   "language": "julia",
   "name": "julia-1.7"
  },
  "language_info": {
   "file_extension": ".jl",
   "mimetype": "application/julia",
   "name": "julia",
   "version": "1.7.2"
  },
  "orig_nbformat": 4
 },
 "nbformat": 4,
 "nbformat_minor": 2
}
