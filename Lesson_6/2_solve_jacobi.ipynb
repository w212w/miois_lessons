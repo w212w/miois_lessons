{
 "cells": [
  {
   "cell_type": "markdown",
   "metadata": {},
   "source": [
    "# Решение СЛАУ методом Якоби-Гаусса\n",
    "Как говорилось ранее, СЛАУ можно решать итерационными методами. Для этого необходимо задать итерационный процесс вида\n",
    "\n",
    "$$\n",
    "X^{(s+1)} = {\\mathbf R} X^{(s)} + {\\mathbf F},\n",
    "$$\n",
    "где s - номер итерации, R - матрица перехода.\n",
    "\n",
    "Рассмотрим метод Якоби-Гаусса, приводящий к такому процессу. Пусть задана СЛАУ.\n",
    "$$\n",
    " \\left\n",
    "\\{\\begin{gathered}\n",
    "a_{11}x_1 + a_{12}x_2 + \\dots + a_{1n}x_n = b_1 \\\\\n",
    "a_{21}x_1 + a_{22}x_2 + \\dots + a_{2n}x_n = b_2 \\\\\n",
    "\\cdots \\\\\n",
    "a_{n1}x_1 + a_{n2}x_2 + \\dots + a_{nn}x_n = b_n \\\\\n",
    "\\end{gathered}\n",
    "\\right.,\n",
    "$$\n",
    "\n",
    "Из первого уравнения будем находить новые приближения для $x_1$, используя $x_2\\dots x_n$. Из второго уравнения будем находить $x_2$, используя все остальные $x_i$. И так далее. В итоге, получим:\n",
    "\n",
    "$$\n",
    " \\left\n",
    "\\{\\begin{gathered}\n",
    "a_{11}x_1^{(s+1)} + a_{12}x_2^{(s)} + \\dots + a_{1n}x_n^{(s)} = b_1 \\\\\n",
    "a_{21}x_1^{(s)} + a_{22}x_2^{(s+1)} + \\dots + a_{2n}x_n^{(s)} = b_2 \\\\\n",
    "\\cdots \\\\\n",
    "a_{n1}x_1^{(s)} + a_{n2}x_2^{(s)} + \\dots + a_{nn}x_n^{(s+1)} = b_n \\\\\n",
    "\\end{gathered}\n",
    "\\right.,\n",
    "$$\n",
    "\n",
    "Тогда решение будет иметь вид:\n",
    "$$\n",
    "\\begin{align*}\n",
    "& x_1^{(s+1)} = \\cfrac{1}{a_{11}}(b_1 - \\sum\\limits_{j=2}^n a_{1j} x_j^s) \\\\\n",
    "& x_i^{(s+1)} = \\cfrac{1}{a_{ii}}(b_i - \\sum\\limits_{j=1}^{i-1} a_{ij} x_j^s - \\sum\\limits_{j=i+1}^{n} a_{ij} x_j^s)\\\\\n",
    "\\end{align*}\n",
    "$$\n",
    "\n",
    "Для упрощения этой записи можно перейти к матричному виду. Тогда уравнение запишется как:\n",
    "\n",
    "$$\n",
    "{\\mathbf D} X^{(s+1)} + ({\\mathbf L} + {\\mathbf U}) X^{(s)} = B,\n",
    "$$\n",
    "\n",
    "где ${\\mathbf D}$ - матрица, содержащая диагональ матрицы ${\\mathbf A}$, а остальные элементы которой равны 0; ${\\mathbf L}$ и ${\\mathbf U}$ - матрицы, содержащие только элементы матрицы ${\\mathbf A}$, стоящие выше и ниже главной диагонали соответственно.\n",
    "\n",
    "В этом случае, решение на $s+1$ шаге имеет вид:\n",
    "\n",
    "$$\n",
    "X^{(s+1)} = -{\\mathbf D^{-1}}({\\mathbf L} + {\\mathbf U})X^{(s)} + {\\mathbf D^{-1}}B\n",
    "$$"
   ]
  },
  {
   "cell_type": "markdown",
   "metadata": {},
   "source": [
    "## Упражнение 1\n",
    "Создайте 3 функции: ```make_d(A::AbstractMatrix), make_l(A::AbstractMatrix), make_u(A::AbstractMatrix)```. Их входной параметр - матрица `A`. Они должны возвращать матрицу той же размерности, что и `A`, но содержать только её: главную диагональ, часть над главной диагональю и часть под главной диагональю соответственно. Все остальные элементы этих матриц должны быть равны 0."
   ]
  },
  {
   "cell_type": "code",
   "execution_count": null,
   "metadata": {},
   "outputs": [],
   "source": [
    "function make_d(A::AbstractMatrix)::Matrix{Float64}\n",
    "# Впишите сюда код.\n",
    "# Начните с создания нулевой матрицы, размерностью, совпадающей с A\n",
    "end\n",
    "\n",
    "function make_l(A::AbstractMatrix)::Matrix{Float64}\n",
    "# Впишите сюда код.\n",
    "# Начните с создания нулевой матрицы, размерностью, совпадающей с A    \n",
    "end\n",
    "\n",
    "function make_u(A::AbstractMatrix)::Matrix{Float64}\n",
    "# Впишите сюда код.\n",
    "# Начните с создания нулевой матрицы, размерностью, совпадающей с A\n",
    "end"
   ]
  },
  {
   "cell_type": "markdown",
   "metadata": {},
   "source": [
    "## Упражнение 2\n",
    "Напишите функцию `inv_d(D::AbstractMatrix)`, которая из диагональной матрицы делает обратную ей. Подсказка: в новой матрице замените элементы исходной обратными (вместо $a_{ij}$ вставьте $1/a_{ij}$)."
   ]
  },
  {
   "cell_type": "code",
   "execution_count": null,
   "metadata": {},
   "outputs": [],
   "source": [
    "function inv_d(D::AbstractMatrix)\n",
    "\n",
    "end"
   ]
  },
  {
   "cell_type": "markdown",
   "metadata": {},
   "source": [
    "## Упражнение 3\n",
    "Создайте функцию ```jacobi(A::AbstractMatrix, B::AbstractVector, X_0::AbstractVector, eps::Float64)```, которая решает СЛАУ методом Якоби-Гаусса. A - матрица коэффициентов, B - вектор свободных членов, X_0 - начальное приближение, eps - максимальная погрешность нормы решения. Используйте функции, написанные в упражнении 1 и формулу\n",
    "$$\n",
    "X^{(s+1)} = -{\\mathbf D^{-1}}({\\mathbf L} + {\\mathbf U})X^{(s)} + {\\mathbf D^{-1}}B.\n",
    "$$"
   ]
  },
  {
   "cell_type": "code",
   "execution_count": 1,
   "metadata": {},
   "outputs": [
    {
     "data": {
      "text/plain": [
       "jacobi (generic function with 1 method)"
      ]
     },
     "metadata": {},
     "output_type": "display_data"
    }
   ],
   "source": [
    "function jacobi(A::AbstractMatrix, B::AbstractVector, X_0::AbstractVector, eps::Float64)\n",
    "    # Создайте векторы X_S и X_S1, по размеру равные X_0. В них будет храниться решение на текущей итерации и на предыдущей итерации\n",
    "    L, U, D = make_l(A), make_u(A), make_d(A)\n",
    "\n",
    "    # Первую итерацию проведите вне цикла. Рассчитайте X_S.\n",
    "\n",
    "    # Для итераций используйте цикл while. Условием выхода из цикла будет то, что норма (X_S - X_S1) будет меньше, чем eps.\n",
    "    # Норму посчитайте, используя функцию sum (см. документацию на неё).\n",
    "    \n",
    "\n",
    "    # Верните вектор X_S\n",
    "\n",
    "end\n"
   ]
  }
 ],
 "metadata": {
  "kernelspec": {
   "display_name": "Python 3.8.8 ('base')",
   "language": "python",
   "name": "python3"
  },
  "language_info": {
   "file_extension": ".jl",
   "mimetype": "application/julia",
   "name": "python",
   "version": "3.8.8"
  },
  "orig_nbformat": 4,
  "vscode": {
   "interpreter": {
    "hash": "86f8ceae1d202a115708ec94a4d2bd65a19fd49fc2fcce341aff580d38dbf0b4"
   }
  }
 },
 "nbformat": 4,
 "nbformat_minor": 2
}
