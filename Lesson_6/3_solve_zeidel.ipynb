{
 "cells": [
  {
   "cell_type": "markdown",
   "metadata": {},
   "source": [
    "# Метод Гаусса-Зейделя\n",
    "\n",
    "Метод Гаусса-Зейделя очень похож на метод Якоби-Гаусса. Он отличается тем, что для нахождения $x_i^{s+1}$ используется использются найденные на этом же шаге $x_{1 \\dots i-1}^{s+1}$. Тогда СЛАУ имеет вид:\n",
    "\n",
    "$$\n",
    " \\left\n",
    "\\{\\begin{gathered}\n",
    "a_{11}x_1^{(s+1)} + a_{12}x_2^{(s)} + \\dots + a_{1n}x_n^{(s)} = b_1 \\\\\n",
    "a_{21}x_1^{(s+1)} + a_{22}x_2^{(s+1)} + \\dots + a_{2n}x_n^{(s)} = b_2 \\\\\n",
    "\\cdots \\\\\n",
    "a_{n1}x_1^{(s+1)} + a_{n2}x_2^{(s+1)} + \\dots + a_{nn}x_n^{(s+1)} = b_n \\\\\n",
    "\\end{gathered}\n",
    "\\right.\n",
    "$$\n",
    "\n",
    "Решение будет записываться в виде:\n",
    "\n",
    "$$\n",
    "\\begin{align*}\n",
    "& x_1^{(s+1)} = \\cfrac{1}{a_{11}}(b_1 - \\sum\\limits_{j=2}^n a_{1j} x_j^s) \\\\\n",
    "& x_i^{(s+1)} = \\cfrac{1}{a_{ii}}(b_i - \\sum\\limits_{j=1}^{i-1} a_{ij} x_j^{s+1} - \\sum\\limits_{j=i+1}^{n} a_{ij} x_j^s)\\\\\n",
    "\\end{align*}.\n",
    "$$\n",
    "\n",
    "В матричном виде СЛАУ имеет вид:\n",
    "$$\n",
    "({\\mathbf D} + {\\mathbf L})X^{(s+1)}  + {\\mathbf U} X^{(s)} = B,\n",
    "$$\n",
    "\n",
    "а решение имеет вид:\n",
    "\n",
    "$$\n",
    "X^{(s+1)} = -({\\mathbf D} + {\\mathbf L})^{-1}{\\mathbf U}X^{(s)} + ({\\mathbf D} + {\\mathbf L})^{-1}B .\n",
    "$$\n",
    "\n"
   ]
  },
  {
   "cell_type": "markdown",
   "metadata": {},
   "source": [
    "## Упражнение 1\n",
    "Создайте функцию ```zeydel(A::AbstractMatrix, B::AbstractVector, X_0::AbstractVector, eps::Float64)```, которая решает СЛАУ методом Зейделя-Гаусса. A - матрица коэффициентов, B - вектор свободных членов, X_0 - начальное приближение, eps - максимальная погрешность нормы решения. Используйте функции, написанные в предыдущем уроке и формулу.\n",
    "$$\n",
    "X^{(s+1)} = -({\\mathbf D} + {\\mathbf L})^{-1}{\\mathbf U}X^{(s)} + ({\\mathbf D} + {\\mathbf L})^{-1}B .\n",
    "$$\n",
    "\n",
    "Для нахождения обратной матрицы используйте метод Гаусса.\n",
    "\n",
    "P.S. Ещё два варианта: если совсем не получается Гауссом, то используйте оператор `\\`.\n",
    "Вариант для \"продвинутых\": посчитайте вручную обратную матрицу для нижнетреугольной и напишите функцию, которая будет считать её. \n",
    "\n"
   ]
  },
  {
   "cell_type": "code",
   "execution_count": null,
   "metadata": {},
   "outputs": [],
   "source": [
    "function zeydel(A::AbstractMatrix, B::AbstractVector, X_0::AbstractVector, eps::Float64)\n",
    "    # Создайте векторы X_S и X_S1, по размеру равные X_0. В них будет храниться решение на текущей итерации и на предыдущей итерации\n",
    "    L, U, D = make_l(A), make_u(A), make_d(A)\n",
    "\n",
    "    # Первую итерацию проведите вне цикла. Рассчитайте X_S.\n",
    "\n",
    "    # Для итераций используйте цикл while. Условием выхода из цикла будет то, что норма (X_S - X_S1) будет меньше, чем eps.\n",
    "    # Норму посчитайте, используя функцию sum (см. документацию на неё).\n",
    "    \n",
    "\n",
    "    # Верните вектор X_S\n",
    "\n",
    "end"
   ]
  }
 ],
 "metadata": {
  "kernelspec": {
   "display_name": "Julia 1.7.3",
   "language": "julia",
   "name": "julia-1.7"
  },
  "language_info": {
   "file_extension": ".jl",
   "mimetype": "application/julia",
   "name": "julia",
   "version": "1.7.3"
  },
  "orig_nbformat": 4,
  "vscode": {
   "interpreter": {
    "hash": "ad2bdc8ecc057115af97d19610ffacc2b4e99fae6737bb82f5d7fb13d2f2c186"
   }
  }
 },
 "nbformat": 4,
 "nbformat_minor": 2
}
