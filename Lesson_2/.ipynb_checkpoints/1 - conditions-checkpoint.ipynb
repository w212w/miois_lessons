{
 "cells": [
  {
   "cell_type": "markdown",
   "metadata": {},
   "source": [
    "# Условия\n",
    "\n",
    "#### с использованием ключевого слова `if` keyword\n",
    "In Julia, the syntax\n",
    "\n",
    "```julia\n",
    "if *условие 1*\n",
    "    *блок операций 1*\n",
    "elseif *условие 2*\n",
    "    *блок операций 2*\n",
    "else\n",
    "    *блок операций 3*\n",
    "end\n",
    "```\n",
    "позволяет выполнить один из блоков операций в зависимости от обстоятельств\n",
    "<br><br>\n",
    "Например, мы хотим провести проверку \"FizzBuzz\": задается число N, для которого неоходимо вывести \"Fizz\", если оно делится на 3, \"Buzz\" - если делится на 5 и \"FizzBuzz\", если выполнены оба условия. В противном случае - просто напечатать число. Введите ваше число `N` здесь:"
   ]
  },
  {
   "cell_type": "code",
   "execution_count": 7,
   "metadata": {},
   "outputs": [
    {
     "data": {
      "text/plain": [
       "16"
      ]
     },
     "execution_count": 7,
     "metadata": {},
     "output_type": "execute_result"
    }
   ],
   "source": [
    "N = 16"
   ]
  },
  {
   "cell_type": "code",
   "execution_count": 8,
   "metadata": {},
   "outputs": [
    {
     "name": "stdout",
     "output_type": "stream",
     "text": [
      "16\n"
     ]
    }
   ],
   "source": [
    "if (N % 3 == 0) && (N % 5 == 0) # `&&` означает \"И\"; % - остаток от деления\n",
    "    println(\"FizzBuzz\")\n",
    "elseif N % 3 == 0\n",
    "    println(\"Fizz\")\n",
    "elseif N % 5 == 0\n",
    "    println(\"Buzz\")\n",
    "else\n",
    "    println(N)\n",
    "end"
   ]
  },
  {
   "cell_type": "markdown",
   "metadata": {},
   "source": [
    "#### с использованием тернарных операторов\n",
    "\n",
    "Альтернативой `if` является тернарный оператор, который позволяет записать\n",
    "```julia\n",
    "if a\n",
    "    b\n",
    "else\n",
    "    c\n",
    "end\n",
    "```\n",
    "более компактно следующим образом\n",
    "```julia\n",
    "a ? b : c\n",
    "```"
   ]
  },
  {
   "cell_type": "markdown",
   "metadata": {},
   "source": [
    "Давайте попробуем вычислить максимальное из двух чисел. Задайте значения `x` и `y`:"
   ]
  },
  {
   "cell_type": "code",
   "execution_count": null,
   "metadata": {},
   "outputs": [],
   "source": [
    "x = 10\n",
    "y = 30"
   ]
  },
  {
   "cell_type": "markdown",
   "metadata": {},
   "source": [
    "Используя операторы `if` и `else` мы должны записать:"
   ]
  },
  {
   "cell_type": "code",
   "execution_count": null,
   "metadata": {},
   "outputs": [],
   "source": [
    "if x > y\n",
    "    x\n",
    "else\n",
    "    y\n",
    "end"
   ]
  },
  {
   "cell_type": "markdown",
   "metadata": {},
   "source": [
    "а с использованием тернарных операторов запись будет следующей:"
   ]
  },
  {
   "cell_type": "code",
   "execution_count": null,
   "metadata": {},
   "outputs": [],
   "source": [
    "(x > y) ? x : y"
   ]
  },
  {
   "cell_type": "markdown",
   "metadata": {},
   "source": [
    "Тернарный оператор возращает значение, поэтому мы можем использовать его совместно с операцией присваивания"
   ]
  },
  {
   "cell_type": "code",
   "execution_count": null,
   "metadata": {},
   "outputs": [],
   "source": [
    "maxXY = (x>y) ? x : y;\n",
    "maxXY"
   ]
  },
  {
   "cell_type": "markdown",
   "metadata": {},
   "source": [
    "#### при помощи вычислений по короткой схеме\n",
    "\n",
    "Раннее мы уже встречались с выражениями вида\n",
    "```julia\n",
    "a && b\n",
    "```\n",
    "которое возвращает истину, если и `a` и `b` являются истинны. Конечно, если `a` - ложно, Julia уже не важно значение `b` для определения, что итоговый результат будет ложным. Поэтому компьютеру нет необходимости проверять значение `b`; он может пойти по \"короткой схеме\" и сразу же вернуть `false`.  Второй аргумент `b` может быть более сложным выражением, даже функцией, вычисление значения которого довольно трудозатратно, которая не будет вызвана:"
   ]
  },
  {
   "cell_type": "code",
   "execution_count": null,
   "metadata": {},
   "outputs": [],
   "source": [
    "false && (println(\"hi\"); true)"
   ]
  },
  {
   "cell_type": "code",
   "execution_count": null,
   "metadata": {},
   "outputs": [],
   "source": [
    "true && (println(\"hi\"); true)"
   ]
  },
  {
   "cell_type": "markdown",
   "metadata": {},
   "source": [
    "С другой стороны, если `a` - истина, Julia может просто вернуть значение `b` как общий результат выражения. Это означает, что `b` даже не нужно обязательно принимать значения `true` или `false`! `b` даже может быть ошибкой"
   ]
  },
  {
   "cell_type": "code",
   "execution_count": null,
   "metadata": {},
   "outputs": [],
   "source": [
    "(x > 0) && error(\"x cannot be greater than 0\")"
   ]
  },
  {
   "cell_type": "markdown",
   "metadata": {},
   "source": [
    "Аналогичным образом работает оператор `||`,  который также использует вычисление по короткой схеме для реализации операции \"or\"."
   ]
  },
  {
   "cell_type": "code",
   "execution_count": null,
   "metadata": {},
   "outputs": [],
   "source": [
    "true || println(\"hi\")"
   ]
  },
  {
   "cell_type": "markdown",
   "metadata": {},
   "source": [
    "и"
   ]
  },
  {
   "cell_type": "code",
   "execution_count": null,
   "metadata": {},
   "outputs": [],
   "source": [
    "false || println(\"hi\")"
   ]
  },
  {
   "cell_type": "markdown",
   "metadata": {},
   "source": [
    "Иначе говоря, выражение вида \n",
    "```Julia\n",
    "a && b\n",
    "```\n",
    "равносильно выражению\n",
    "```Julia \n",
    "a ? b : a\n",
    "```\n",
    "а выражение\n",
    "```Julia\n",
    "a || b\n",
    "```\n",
    "равносильно выражению \n",
    "```Julia\n",
    "a ? a : b\n",
    "```"
   ]
  },
  {
   "cell_type": "markdown",
   "metadata": {},
   "source": [
    "### Упражнения\n",
    "\n",
    "#### 5.1 \n",
    "Запишите условвное выражение, которое ыводит число, если оно четное, и строку \"нечетное\" в противном случае."
   ]
  },
  {
   "cell_type": "code",
   "execution_count": null,
   "metadata": {},
   "outputs": [],
   "source": []
  },
  {
   "cell_type": "markdown",
   "metadata": {},
   "source": [
    "#### 5.2 \n",
    "Перепишите задание 5.1 используя тернарный оператор."
   ]
  },
  {
   "cell_type": "code",
   "execution_count": null,
   "metadata": {},
   "outputs": [],
   "source": []
  }
 ],
 "metadata": {
  "kernelspec": {
   "display_name": "Julia 1.6.2",
   "language": "julia",
   "name": "julia-1.6"
  },
  "language_info": {
   "file_extension": ".jl",
   "mimetype": "application/julia",
   "name": "julia",
   "version": "1.6.2"
  }
 },
 "nbformat": 4,
 "nbformat_minor": 4
}
